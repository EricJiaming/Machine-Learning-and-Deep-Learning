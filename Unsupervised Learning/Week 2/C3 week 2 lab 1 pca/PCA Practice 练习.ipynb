{
 "cells": [
  {
   "cell_type": "code",
   "execution_count": 1,
   "id": "d1946226",
   "metadata": {},
   "outputs": [],
   "source": [
    "import pandas as pd\n",
    "import numpy as np\n",
    "from sklearn.decomposition import PCA\n",
    "from pca_utils import plot_widget\n",
    "from bokeh.io import show, output_notebook\n",
    "from bokeh.plotting import figure\n",
    "import matplotlib.pyplot as plt\n",
    "import plotly.offline as py"
   ]
  },
  {
   "cell_type": "code",
   "execution_count": 10,
   "id": "0e43966d",
   "metadata": {},
   "outputs": [],
   "source": [
    "import numpy as np\n",
    "import pandas as pd\n",
    "import matplotlib.pyplot as plt\n",
    "import pandas as pd\n",
    "import numpy as np\n",
    "from sklearn.decomposition import PCA\n",
    "from pca_utils import plot_widget\n",
    "from bokeh.io import show, output_notebook\n",
    "from bokeh.plotting import figure\n",
    "import matplotlib.pyplot as plt\n",
    "import plotly.offline as py\n",
    "from sklearn.decomposition import TruncatedSVD\n",
    "from numpy.linalg import inv, eig, svd\n",
    "from sklearn.manifold import TSNE\n",
    "from sklearn.decomposition import KernelPCA\n",
    "from sklearn.preprocessing import StandardScaler\n",
    "from pandas.plotting import scatter_matrix\n",
    "import seaborn as sns"
   ]
  },
  {
   "cell_type": "code",
   "execution_count": 2,
   "id": "35755130",
   "metadata": {},
   "outputs": [],
   "source": [
    "X = np.array([[ 99,  -1],\n",
    "       [ 98,  -1],\n",
    "       [ 97,  -2],\n",
    "       [101,   1],\n",
    "       [102,   1],\n",
    "       [103,   2]])"
   ]
  },
  {
   "cell_type": "code",
   "execution_count": 3,
   "id": "2087e596",
   "metadata": {
    "scrolled": true
   },
   "outputs": [
    {
     "data": {
      "text/plain": [
       "array([[ 99,  -1],\n",
       "       [ 98,  -1],\n",
       "       [ 97,  -2],\n",
       "       [101,   1],\n",
       "       [102,   1],\n",
       "       [103,   2]])"
      ]
     },
     "execution_count": 3,
     "metadata": {},
     "output_type": "execute_result"
    }
   ],
   "source": [
    "X"
   ]
  },
  {
   "cell_type": "code",
   "execution_count": 4,
   "id": "750440fb",
   "metadata": {},
   "outputs": [
    {
     "data": {
      "text/plain": [
       "[<matplotlib.lines.Line2D at 0x17d7ac490>]"
      ]
     },
     "execution_count": 4,
     "metadata": {},
     "output_type": "execute_result"
    },
    {
     "data": {
      "image/png": "[encoded data removed]",
      "text/plain": [
       "<Figure size 640x480 with 1 Axes>"
      ]
     },
     "metadata": {},
     "output_type": "display_data"
    }
   ],
   "source": [
    "plt.plot(X[:,0], X[:,1], 'ro')"
   ]
  },
  {
   "cell_type": "code",
   "execution_count": 5,
   "id": "4e332772",
   "metadata": {},
   "outputs": [
    {
     "data": {
      "text/html": [
       "<style>#sk-container-id-1 {color: black;background-color: white;}#sk-container-id-1 pre{padding: 0;}#sk-container-id-1 div.sk-toggleable {background-color: white;}#sk-container-id-1 label.sk-toggleable__label {cursor: pointer;display: block;width: 100%;margin-bottom: 0;padding: 0.3em;box-sizing: border-box;text-align: center;}#sk-container-id-1 label.sk-toggleable__label-arrow:before {content: \"▸\";float: left;margin-right: 0.25em;color: #696969;}#sk-container-id-1 label.sk-toggleable__label-arrow:hover:before {color: black;}#sk-container-id-1 div.sk-estimator:hover label.sk-toggleable__label-arrow:before {color: black;}#sk-container-id-1 div.sk-toggleable__content {max-height: 0;max-width: 0;overflow: hidden;text-align: left;background-color: #f0f8ff;}#sk-container-id-1 div.sk-toggleable__content pre {margin: 0.2em;color: black;border-radius: 0.25em;background-color: #f0f8ff;}#sk-container-id-1 input.sk-toggleable__control:checked~div.sk-toggleable__content {max-height: 200px;max-width: 100%;overflow: auto;}#sk-container-id-1 input.sk-toggleable__control:checked~label.sk-toggleable__label-arrow:before {content: \"▾\";}#sk-container-id-1 div.sk-estimator input.sk-toggleable__control:checked~label.sk-toggleable__label {background-color: #d4ebff;}#sk-container-id-1 div.sk-label input.sk-toggleable__control:checked~label.sk-toggleable__label {background-color: #d4ebff;}#sk-container-id-1 input.sk-hidden--visually {border: 0;clip: rect(1px 1px 1px 1px);clip: rect(1px, 1px, 1px, 1px);height: 1px;margin: -1px;overflow: hidden;padding: 0;position: absolute;width: 1px;}#sk-container-id-1 div.sk-estimator {font-family: monospace;background-color: #f0f8ff;border: 1px dotted black;border-radius: 0.25em;box-sizing: border-box;margin-bottom: 0.5em;}#sk-container-id-1 div.sk-estimator:hover {background-color: #d4ebff;}#sk-container-id-1 div.sk-parallel-item::after {content: \"\";width: 100%;border-bottom: 1px solid gray;flex-grow: 1;}#sk-container-id-1 div.sk-label:hover label.sk-toggleable__label {background-color: #d4ebff;}#sk-container-id-1 div.sk-serial::before {content: \"\";position: absolute;border-left: 1px solid gray;box-sizing: border-box;top: 0;bottom: 0;left: 50%;z-index: 0;}#sk-container-id-1 div.sk-serial {display: flex;flex-direction: column;align-items: center;background-color: white;padding-right: 0.2em;padding-left: 0.2em;position: relative;}#sk-container-id-1 div.sk-item {position: relative;z-index: 1;}#sk-container-id-1 div.sk-parallel {display: flex;align-items: stretch;justify-content: center;background-color: white;position: relative;}#sk-container-id-1 div.sk-item::before, #sk-container-id-1 div.sk-parallel-item::before {content: \"\";position: absolute;border-left: 1px solid gray;box-sizing: border-box;top: 0;bottom: 0;left: 50%;z-index: -1;}#sk-container-id-1 div.sk-parallel-item {display: flex;flex-direction: column;z-index: 1;position: relative;background-color: white;}#sk-container-id-1 div.sk-parallel-item:first-child::after {align-self: flex-end;width: 50%;}#sk-container-id-1 div.sk-parallel-item:last-child::after {align-self: flex-start;width: 50%;}#sk-container-id-1 div.sk-parallel-item:only-child::after {width: 0;}#sk-container-id-1 div.sk-dashed-wrapped {border: 1px dashed gray;margin: 0 0.4em 0.5em 0.4em;box-sizing: border-box;padding-bottom: 0.4em;background-color: white;}#sk-container-id-1 div.sk-label label {font-family: monospace;font-weight: bold;display: inline-block;line-height: 1.2em;}#sk-container-id-1 div.sk-label-container {text-align: center;}#sk-container-id-1 div.sk-container {/* jupyter's `normalize.less` sets `[hidden] { display: none; }` but bootstrap.min.css set `[hidden] { display: none !important; }` so we also need the `!important` here to be able to override the default hidden behavior on the sphinx rendered scikit-learn.org. See: https://github.com/scikit-learn/scikit-learn/issues/21755 */display: inline-block !important;position: relative;}#sk-container-id-1 div.sk-text-repr-fallback {display: none;}</style><div id=\"sk-container-id-1\" class=\"sk-top-container\"><div class=\"sk-text-repr-fallback\"><pre>PCA(n_components=1)</pre><b>In a Jupyter environment, please rerun this cell to show the HTML representation or trust the notebook. <br />On GitHub, the HTML representation is unable to render, please try loading this page with nbviewer.org.</b></div><div class=\"sk-container\" hidden><div class=\"sk-item\"><div class=\"sk-estimator sk-toggleable\"><input class=\"sk-toggleable__control sk-hidden--visually\" id=\"sk-estimator-id-1\" type=\"checkbox\" checked><label for=\"sk-estimator-id-1\" class=\"sk-toggleable__label sk-toggleable__label-arrow\">PCA</label><div class=\"sk-toggleable__content\"><pre>PCA(n_components=1)</pre></div></div></div></div></div>"
      ],
      "text/plain": [
       "PCA(n_components=1)"
      ]
     },
     "execution_count": 5,
     "metadata": {},
     "output_type": "execute_result"
    }
   ],
   "source": [
    "pca_1 = PCA(n_components = 1)\n",
    "pca_1"
   ]
  },
  {
   "cell_type": "code",
   "execution_count": 6,
   "id": "017d208d",
   "metadata": {},
   "outputs": [
    {
     "data": {
      "text/html": [
       "<style>#sk-container-id-2 {color: black;background-color: white;}#sk-container-id-2 pre{padding: 0;}#sk-container-id-2 div.sk-toggleable {background-color: white;}#sk-container-id-2 label.sk-toggleable__label {cursor: pointer;display: block;width: 100%;margin-bottom: 0;padding: 0.3em;box-sizing: border-box;text-align: center;}#sk-container-id-2 label.sk-toggleable__label-arrow:before {content: \"▸\";float: left;margin-right: 0.25em;color: #696969;}#sk-container-id-2 label.sk-toggleable__label-arrow:hover:before {color: black;}#sk-container-id-2 div.sk-estimator:hover label.sk-toggleable__label-arrow:before {color: black;}#sk-container-id-2 div.sk-toggleable__content {max-height: 0;max-width: 0;overflow: hidden;text-align: left;background-color: #f0f8ff;}#sk-container-id-2 div.sk-toggleable__content pre {margin: 0.2em;color: black;border-radius: 0.25em;background-color: #f0f8ff;}#sk-container-id-2 input.sk-toggleable__control:checked~div.sk-toggleable__content {max-height: 200px;max-width: 100%;overflow: auto;}#sk-container-id-2 input.sk-toggleable__control:checked~label.sk-toggleable__label-arrow:before {content: \"▾\";}#sk-container-id-2 div.sk-estimator input.sk-toggleable__control:checked~label.sk-toggleable__label {background-color: #d4ebff;}#sk-container-id-2 div.sk-label input.sk-toggleable__control:checked~label.sk-toggleable__label {background-color: #d4ebff;}#sk-container-id-2 input.sk-hidden--visually {border: 0;clip: rect(1px 1px 1px 1px);clip: rect(1px, 1px, 1px, 1px);height: 1px;margin: -1px;overflow: hidden;padding: 0;position: absolute;width: 1px;}#sk-container-id-2 div.sk-estimator {font-family: monospace;background-color: #f0f8ff;border: 1px dotted black;border-radius: 0.25em;box-sizing: border-box;margin-bottom: 0.5em;}#sk-container-id-2 div.sk-estimator:hover {background-color: #d4ebff;}#sk-container-id-2 div.sk-parallel-item::after {content: \"\";width: 100%;border-bottom: 1px solid gray;flex-grow: 1;}#sk-container-id-2 div.sk-label:hover label.sk-toggleable__label {background-color: #d4ebff;}#sk-container-id-2 div.sk-serial::before {content: \"\";position: absolute;border-left: 1px solid gray;box-sizing: border-box;top: 0;bottom: 0;left: 50%;z-index: 0;}#sk-container-id-2 div.sk-serial {display: flex;flex-direction: column;align-items: center;background-color: white;padding-right: 0.2em;padding-left: 0.2em;position: relative;}#sk-container-id-2 div.sk-item {position: relative;z-index: 1;}#sk-container-id-2 div.sk-parallel {display: flex;align-items: stretch;justify-content: center;background-color: white;position: relative;}#sk-container-id-2 div.sk-item::before, #sk-container-id-2 div.sk-parallel-item::before {content: \"\";position: absolute;border-left: 1px solid gray;box-sizing: border-box;top: 0;bottom: 0;left: 50%;z-index: -1;}#sk-container-id-2 div.sk-parallel-item {display: flex;flex-direction: column;z-index: 1;position: relative;background-color: white;}#sk-container-id-2 div.sk-parallel-item:first-child::after {align-self: flex-end;width: 50%;}#sk-container-id-2 div.sk-parallel-item:last-child::after {align-self: flex-start;width: 50%;}#sk-container-id-2 div.sk-parallel-item:only-child::after {width: 0;}#sk-container-id-2 div.sk-dashed-wrapped {border: 1px dashed gray;margin: 0 0.4em 0.5em 0.4em;box-sizing: border-box;padding-bottom: 0.4em;background-color: white;}#sk-container-id-2 div.sk-label label {font-family: monospace;font-weight: bold;display: inline-block;line-height: 1.2em;}#sk-container-id-2 div.sk-label-container {text-align: center;}#sk-container-id-2 div.sk-container {/* jupyter's `normalize.less` sets `[hidden] { display: none; }` but bootstrap.min.css set `[hidden] { display: none !important; }` so we also need the `!important` here to be able to override the default hidden behavior on the sphinx rendered scikit-learn.org. See: https://github.com/scikit-learn/scikit-learn/issues/21755 */display: inline-block !important;position: relative;}#sk-container-id-2 div.sk-text-repr-fallback {display: none;}</style><div id=\"sk-container-id-2\" class=\"sk-top-container\"><div class=\"sk-text-repr-fallback\"><pre>PCA(n_components=1)</pre><b>In a Jupyter environment, please rerun this cell to show the HTML representation or trust the notebook. <br />On GitHub, the HTML representation is unable to render, please try loading this page with nbviewer.org.</b></div><div class=\"sk-container\" hidden><div class=\"sk-item\"><div class=\"sk-estimator sk-toggleable\"><input class=\"sk-toggleable__control sk-hidden--visually\" id=\"sk-estimator-id-2\" type=\"checkbox\" checked><label for=\"sk-estimator-id-2\" class=\"sk-toggleable__label sk-toggleable__label-arrow\">PCA</label><div class=\"sk-toggleable__content\"><pre>PCA(n_components=1)</pre></div></div></div></div></div>"
      ],
      "text/plain": [
       "PCA(n_components=1)"
      ]
     },
     "execution_count": 6,
     "metadata": {},
     "output_type": "execute_result"
    }
   ],
   "source": [
    "pca_1.fit(X)"
   ]
  },
  {
   "cell_type": "code",
   "execution_count": 8,
   "id": "6a581804",
   "metadata": {
    "scrolled": true
   },
   "outputs": [
    {
     "data": {
      "text/html": [
       "<div>\n",
       "<style scoped>\n",
       "    .dataframe tbody tr th:only-of-type {\n",
       "        vertical-align: middle;\n",
       "    }\n",
       "\n",
       "    .dataframe tbody tr th {\n",
       "        vertical-align: top;\n",
       "    }\n",
       "\n",
       "    .dataframe thead th {\n",
       "        text-align: right;\n",
       "    }\n",
       "</style>\n",
       "<table border=\"1\" class=\"dataframe\">\n",
       "  <thead>\n",
       "    <tr style=\"text-align: right;\">\n",
       "      <th></th>\n",
       "      <th>0</th>\n",
       "      <th>1</th>\n",
       "    </tr>\n",
       "  </thead>\n",
       "  <tbody>\n",
       "    <tr>\n",
       "      <th>0</th>\n",
       "      <td>-0.838492</td>\n",
       "      <td>-0.544914</td>\n",
       "    </tr>\n",
       "  </tbody>\n",
       "</table>\n",
       "</div>"
      ],
      "text/plain": [
       "          0         1\n",
       "0 -0.838492 -0.544914"
      ]
     },
     "execution_count": 8,
     "metadata": {},
     "output_type": "execute_result"
    }
   ],
   "source": [
    "pd.DataFrame(pca_1.components_)"
   ]
  },
  {
   "cell_type": "code",
   "execution_count": 12,
   "id": "00db37ad",
   "metadata": {},
   "outputs": [
    {
     "data": {
      "text/html": [
       "<div>\n",
       "<style scoped>\n",
       "    .dataframe tbody tr th:only-of-type {\n",
       "        vertical-align: middle;\n",
       "    }\n",
       "\n",
       "    .dataframe tbody tr th {\n",
       "        vertical-align: top;\n",
       "    }\n",
       "\n",
       "    .dataframe thead th {\n",
       "        text-align: right;\n",
       "    }\n",
       "</style>\n",
       "<table border=\"1\" class=\"dataframe\">\n",
       "  <thead>\n",
       "    <tr style=\"text-align: right;\">\n",
       "      <th></th>\n",
       "      <th>0</th>\n",
       "      <th>1</th>\n",
       "    </tr>\n",
       "  </thead>\n",
       "  <tbody>\n",
       "    <tr>\n",
       "      <th>0</th>\n",
       "      <td>-0.46291</td>\n",
       "      <td>-0.707107</td>\n",
       "    </tr>\n",
       "    <tr>\n",
       "      <th>1</th>\n",
       "      <td>-0.92582</td>\n",
       "      <td>-0.707107</td>\n",
       "    </tr>\n",
       "    <tr>\n",
       "      <th>2</th>\n",
       "      <td>-1.38873</td>\n",
       "      <td>-1.414214</td>\n",
       "    </tr>\n",
       "    <tr>\n",
       "      <th>3</th>\n",
       "      <td>0.46291</td>\n",
       "      <td>0.707107</td>\n",
       "    </tr>\n",
       "    <tr>\n",
       "      <th>4</th>\n",
       "      <td>0.92582</td>\n",
       "      <td>0.707107</td>\n",
       "    </tr>\n",
       "    <tr>\n",
       "      <th>5</th>\n",
       "      <td>1.38873</td>\n",
       "      <td>1.414214</td>\n",
       "    </tr>\n",
       "  </tbody>\n",
       "</table>\n",
       "</div>"
      ],
      "text/plain": [
       "         0         1\n",
       "0 -0.46291 -0.707107\n",
       "1 -0.92582 -0.707107\n",
       "2 -1.38873 -1.414214\n",
       "3  0.46291  0.707107\n",
       "4  0.92582  0.707107\n",
       "5  1.38873  1.414214"
      ]
     },
     "execution_count": 12,
     "metadata": {},
     "output_type": "execute_result"
    }
   ],
   "source": [
    "scaler = StandardScaler().fit(X)\n",
    "scaled_df = pd.DataFrame(scaler.fit_transform(X))\n",
    "scaled_df"
   ]
  },
  {
   "cell_type": "code",
   "execution_count": 11,
   "id": "6dd3a407",
   "metadata": {},
   "outputs": [
    {
     "data": {
      "text/plain": [
       "array([0.99244289])"
      ]
     },
     "execution_count": 11,
     "metadata": {},
     "output_type": "execute_result"
    }
   ],
   "source": [
    "pca_1.explained_variance_ratio_"
   ]
  },
  {
   "cell_type": "code",
   "execution_count": 14,
   "id": "3305c41c",
   "metadata": {},
   "outputs": [
    {
     "data": {
      "text/plain": [
       "array([[ 1.38340578],\n",
       "       [ 2.22189802],\n",
       "       [ 3.6053038 ],\n",
       "       [-1.38340578],\n",
       "       [-2.22189802],\n",
       "       [-3.6053038 ]])"
      ]
     },
     "execution_count": 14,
     "metadata": {},
     "output_type": "execute_result"
    }
   ],
   "source": [
    "# 变成一个feature\n",
    "X_trans_1 = pca_1.transform(X)\n",
    "X_trans_1 "
   ]
  },
  {
   "cell_type": "code",
   "execution_count": 17,
   "id": "0f0b33c9",
   "metadata": {},
   "outputs": [
    {
     "data": {
      "text/plain": [
       "array([[ 98.84002499,  -0.75383654],\n",
       "       [ 98.13695576,  -1.21074232],\n",
       "       [ 96.97698075,  -1.96457886],\n",
       "       [101.15997501,   0.75383654],\n",
       "       [101.86304424,   1.21074232],\n",
       "       [103.02301925,   1.96457886]])"
      ]
     },
     "execution_count": 17,
     "metadata": {},
     "output_type": "execute_result"
    }
   ],
   "source": [
    "# 再从一个feature变回俩个feature的数据\n",
    "X_reduced_1 = pca_1.inverse_transform(X_trans_1)\n",
    "X_reduced_1"
   ]
  },
  {
   "cell_type": "code",
   "execution_count": 19,
   "id": "57c0ea00",
   "metadata": {},
   "outputs": [
    {
     "data": {
      "text/plain": [
       "array([[ 99,  -1],\n",
       "       [ 98,  -1],\n",
       "       [ 97,  -2],\n",
       "       [101,   1],\n",
       "       [102,   1],\n",
       "       [103,   2]])"
      ]
     },
     "execution_count": 19,
     "metadata": {},
     "output_type": "execute_result"
    }
   ],
   "source": [
    "X"
   ]
  },
  {
   "cell_type": "code",
   "execution_count": 20,
   "id": "d5d87710",
   "metadata": {},
   "outputs": [
    {
     "data": {
      "text/plain": [
       "[<matplotlib.lines.Line2D at 0x16a01cee0>]"
      ]
     },
     "execution_count": 20,
     "metadata": {},
     "output_type": "execute_result"
    },
    {
     "data": {
      "image/png": "[encoded data removed]",
      "text/plain": [
       "<Figure size 640x480 with 1 Axes>"
      ]
     },
     "metadata": {},
     "output_type": "display_data"
    }
   ],
   "source": [
    "plt.plot(X_reduced_1[:,0], X_reduced_1[:,1], 'ro')"
   ]
  },
  {
   "cell_type": "code",
   "execution_count": 21,
   "id": "62ca5796",
   "metadata": {},
   "outputs": [],
   "source": [
    "# 转换前和转换后的数据差不多，图也差不多"
   ]
  },
  {
   "cell_type": "code",
   "execution_count": 22,
   "id": "17cf2b31",
   "metadata": {},
   "outputs": [],
   "source": [
    "df = pd.read_csv(\"toy_dataset.csv\")"
   ]
  },
  {
   "cell_type": "code",
   "execution_count": 23,
   "id": "71359165",
   "metadata": {},
   "outputs": [
    {
     "data": {
      "text/html": [
       "<div>\n",
       "<style scoped>\n",
       "    .dataframe tbody tr th:only-of-type {\n",
       "        vertical-align: middle;\n",
       "    }\n",
       "\n",
       "    .dataframe tbody tr th {\n",
       "        vertical-align: top;\n",
       "    }\n",
       "\n",
       "    .dataframe thead th {\n",
       "        text-align: right;\n",
       "    }\n",
       "</style>\n",
       "<table border=\"1\" class=\"dataframe\">\n",
       "  <thead>\n",
       "    <tr style=\"text-align: right;\">\n",
       "      <th></th>\n",
       "      <th>feature_0</th>\n",
       "      <th>feature_1</th>\n",
       "      <th>feature_2</th>\n",
       "      <th>feature_3</th>\n",
       "      <th>feature_4</th>\n",
       "      <th>feature_5</th>\n",
       "      <th>feature_6</th>\n",
       "      <th>feature_7</th>\n",
       "      <th>feature_8</th>\n",
       "      <th>feature_9</th>\n",
       "      <th>...</th>\n",
       "      <th>feature_990</th>\n",
       "      <th>feature_991</th>\n",
       "      <th>feature_992</th>\n",
       "      <th>feature_993</th>\n",
       "      <th>feature_994</th>\n",
       "      <th>feature_995</th>\n",
       "      <th>feature_996</th>\n",
       "      <th>feature_997</th>\n",
       "      <th>feature_998</th>\n",
       "      <th>feature_999</th>\n",
       "    </tr>\n",
       "  </thead>\n",
       "  <tbody>\n",
       "    <tr>\n",
       "      <th>0</th>\n",
       "      <td>27.422157</td>\n",
       "      <td>-29.662712</td>\n",
       "      <td>-23.297163</td>\n",
       "      <td>-15.161935</td>\n",
       "      <td>0.345581</td>\n",
       "      <td>3.706750</td>\n",
       "      <td>-5.507209</td>\n",
       "      <td>-46.992476</td>\n",
       "      <td>5.175469</td>\n",
       "      <td>-47.768145</td>\n",
       "      <td>...</td>\n",
       "      <td>7.815960</td>\n",
       "      <td>24.320965</td>\n",
       "      <td>-33.987522</td>\n",
       "      <td>22.306088</td>\n",
       "      <td>31.173511</td>\n",
       "      <td>31.264830</td>\n",
       "      <td>8.380699</td>\n",
       "      <td>-25.843189</td>\n",
       "      <td>36.706408</td>\n",
       "      <td>-43.480792</td>\n",
       "    </tr>\n",
       "    <tr>\n",
       "      <th>1</th>\n",
       "      <td>3.489482</td>\n",
       "      <td>-19.153551</td>\n",
       "      <td>-14.636424</td>\n",
       "      <td>14.688258</td>\n",
       "      <td>20.114204</td>\n",
       "      <td>13.532852</td>\n",
       "      <td>34.298084</td>\n",
       "      <td>22.982509</td>\n",
       "      <td>37.938670</td>\n",
       "      <td>-35.648144</td>\n",
       "      <td>...</td>\n",
       "      <td>11.145527</td>\n",
       "      <td>-38.886603</td>\n",
       "      <td>44.579337</td>\n",
       "      <td>37.308519</td>\n",
       "      <td>29.560535</td>\n",
       "      <td>-10.643331</td>\n",
       "      <td>-6.499263</td>\n",
       "      <td>19.921666</td>\n",
       "      <td>-3.528982</td>\n",
       "      <td>31.068739</td>\n",
       "    </tr>\n",
       "    <tr>\n",
       "      <th>2</th>\n",
       "      <td>4.293509</td>\n",
       "      <td>22.691579</td>\n",
       "      <td>-1.045155</td>\n",
       "      <td>-8.740350</td>\n",
       "      <td>12.401082</td>\n",
       "      <td>31.362987</td>\n",
       "      <td>-18.831206</td>\n",
       "      <td>-35.384557</td>\n",
       "      <td>8.161430</td>\n",
       "      <td>-16.421762</td>\n",
       "      <td>...</td>\n",
       "      <td>48.190331</td>\n",
       "      <td>-0.503157</td>\n",
       "      <td>-21.740678</td>\n",
       "      <td>15.972237</td>\n",
       "      <td>1.122335</td>\n",
       "      <td>-45.473538</td>\n",
       "      <td>10.518065</td>\n",
       "      <td>-5.818320</td>\n",
       "      <td>-29.466301</td>\n",
       "      <td>-13.676685</td>\n",
       "    </tr>\n",
       "    <tr>\n",
       "      <th>3</th>\n",
       "      <td>-2.139348</td>\n",
       "      <td>23.158754</td>\n",
       "      <td>-26.241206</td>\n",
       "      <td>19.426465</td>\n",
       "      <td>9.472049</td>\n",
       "      <td>8.453948</td>\n",
       "      <td>0.637211</td>\n",
       "      <td>-26.675984</td>\n",
       "      <td>-43.823329</td>\n",
       "      <td>11.840874</td>\n",
       "      <td>...</td>\n",
       "      <td>-51.613076</td>\n",
       "      <td>13.278858</td>\n",
       "      <td>-44.179281</td>\n",
       "      <td>32.912282</td>\n",
       "      <td>4.805774</td>\n",
       "      <td>3.960836</td>\n",
       "      <td>-15.888356</td>\n",
       "      <td>61.384773</td>\n",
       "      <td>33.112334</td>\n",
       "      <td>5.088320</td>\n",
       "    </tr>\n",
       "    <tr>\n",
       "      <th>4</th>\n",
       "      <td>-35.251034</td>\n",
       "      <td>27.281816</td>\n",
       "      <td>-29.470282</td>\n",
       "      <td>-21.786865</td>\n",
       "      <td>11.806822</td>\n",
       "      <td>58.655133</td>\n",
       "      <td>5.375230</td>\n",
       "      <td>59.740676</td>\n",
       "      <td>-49.007717</td>\n",
       "      <td>-21.801155</td>\n",
       "      <td>...</td>\n",
       "      <td>0.010857</td>\n",
       "      <td>20.975655</td>\n",
       "      <td>-21.358371</td>\n",
       "      <td>18.709369</td>\n",
       "      <td>22.362477</td>\n",
       "      <td>41.214565</td>\n",
       "      <td>-7.217724</td>\n",
       "      <td>31.173870</td>\n",
       "      <td>37.097532</td>\n",
       "      <td>-27.509420</td>\n",
       "    </tr>\n",
       "    <tr>\n",
       "      <th>...</th>\n",
       "      <td>...</td>\n",
       "      <td>...</td>\n",
       "      <td>...</td>\n",
       "      <td>...</td>\n",
       "      <td>...</td>\n",
       "      <td>...</td>\n",
       "      <td>...</td>\n",
       "      <td>...</td>\n",
       "      <td>...</td>\n",
       "      <td>...</td>\n",
       "      <td>...</td>\n",
       "      <td>...</td>\n",
       "      <td>...</td>\n",
       "      <td>...</td>\n",
       "      <td>...</td>\n",
       "      <td>...</td>\n",
       "      <td>...</td>\n",
       "      <td>...</td>\n",
       "      <td>...</td>\n",
       "      <td>...</td>\n",
       "      <td>...</td>\n",
       "    </tr>\n",
       "    <tr>\n",
       "      <th>495</th>\n",
       "      <td>-19.331647</td>\n",
       "      <td>-0.366931</td>\n",
       "      <td>-45.003810</td>\n",
       "      <td>23.471513</td>\n",
       "      <td>28.763623</td>\n",
       "      <td>5.200654</td>\n",
       "      <td>-9.390098</td>\n",
       "      <td>24.495059</td>\n",
       "      <td>18.614589</td>\n",
       "      <td>-12.676268</td>\n",
       "      <td>...</td>\n",
       "      <td>-0.530597</td>\n",
       "      <td>-25.886767</td>\n",
       "      <td>15.909870</td>\n",
       "      <td>-12.305992</td>\n",
       "      <td>11.665251</td>\n",
       "      <td>-40.847296</td>\n",
       "      <td>-32.090600</td>\n",
       "      <td>32.656975</td>\n",
       "      <td>-30.864307</td>\n",
       "      <td>33.994823</td>\n",
       "    </tr>\n",
       "    <tr>\n",
       "      <th>496</th>\n",
       "      <td>-22.401837</td>\n",
       "      <td>33.158476</td>\n",
       "      <td>-7.511213</td>\n",
       "      <td>-14.897442</td>\n",
       "      <td>32.850515</td>\n",
       "      <td>31.573870</td>\n",
       "      <td>39.305110</td>\n",
       "      <td>15.333884</td>\n",
       "      <td>-11.832214</td>\n",
       "      <td>11.403074</td>\n",
       "      <td>...</td>\n",
       "      <td>-6.084563</td>\n",
       "      <td>-4.721127</td>\n",
       "      <td>-48.339012</td>\n",
       "      <td>21.661988</td>\n",
       "      <td>-1.722079</td>\n",
       "      <td>19.024689</td>\n",
       "      <td>-20.936766</td>\n",
       "      <td>31.727079</td>\n",
       "      <td>12.405595</td>\n",
       "      <td>-10.071446</td>\n",
       "    </tr>\n",
       "    <tr>\n",
       "      <th>497</th>\n",
       "      <td>34.675516</td>\n",
       "      <td>-25.555242</td>\n",
       "      <td>-9.359657</td>\n",
       "      <td>-40.558102</td>\n",
       "      <td>7.370166</td>\n",
       "      <td>42.936061</td>\n",
       "      <td>20.610569</td>\n",
       "      <td>-8.113407</td>\n",
       "      <td>15.245024</td>\n",
       "      <td>-19.350496</td>\n",
       "      <td>...</td>\n",
       "      <td>18.593883</td>\n",
       "      <td>25.024820</td>\n",
       "      <td>-20.524914</td>\n",
       "      <td>21.288515</td>\n",
       "      <td>26.961624</td>\n",
       "      <td>8.657218</td>\n",
       "      <td>47.231649</td>\n",
       "      <td>-6.338811</td>\n",
       "      <td>13.502616</td>\n",
       "      <td>-25.652088</td>\n",
       "    </tr>\n",
       "    <tr>\n",
       "      <th>498</th>\n",
       "      <td>28.873332</td>\n",
       "      <td>49.657090</td>\n",
       "      <td>-40.581331</td>\n",
       "      <td>-36.620498</td>\n",
       "      <td>-44.246918</td>\n",
       "      <td>5.831656</td>\n",
       "      <td>24.495664</td>\n",
       "      <td>-52.132250</td>\n",
       "      <td>22.615132</td>\n",
       "      <td>-9.985665</td>\n",
       "      <td>...</td>\n",
       "      <td>-33.513126</td>\n",
       "      <td>-15.557405</td>\n",
       "      <td>-9.446663</td>\n",
       "      <td>-1.540528</td>\n",
       "      <td>20.153705</td>\n",
       "      <td>-54.249946</td>\n",
       "      <td>-35.893373</td>\n",
       "      <td>55.850888</td>\n",
       "      <td>-19.910680</td>\n",
       "      <td>45.281842</td>\n",
       "    </tr>\n",
       "    <tr>\n",
       "      <th>499</th>\n",
       "      <td>-14.223479</td>\n",
       "      <td>-68.335345</td>\n",
       "      <td>-33.516599</td>\n",
       "      <td>17.774717</td>\n",
       "      <td>-9.689930</td>\n",
       "      <td>7.533977</td>\n",
       "      <td>-12.016742</td>\n",
       "      <td>-26.424840</td>\n",
       "      <td>-5.279775</td>\n",
       "      <td>-4.522729</td>\n",
       "      <td>...</td>\n",
       "      <td>-7.856180</td>\n",
       "      <td>-14.384271</td>\n",
       "      <td>14.601819</td>\n",
       "      <td>-12.553820</td>\n",
       "      <td>-10.593351</td>\n",
       "      <td>-22.479370</td>\n",
       "      <td>24.228746</td>\n",
       "      <td>11.373317</td>\n",
       "      <td>-17.469783</td>\n",
       "      <td>-10.652679</td>\n",
       "    </tr>\n",
       "  </tbody>\n",
       "</table>\n",
       "<p>500 rows × 1000 columns</p>\n",
       "</div>"
      ],
      "text/plain": [
       "     feature_0  feature_1  feature_2  feature_3  feature_4  feature_5  \\\n",
       "0    27.422157 -29.662712 -23.297163 -15.161935   0.345581   3.706750   \n",
       "1     3.489482 -19.153551 -14.636424  14.688258  20.114204  13.532852   \n",
       "2     4.293509  22.691579  -1.045155  -8.740350  12.401082  31.362987   \n",
       "3    -2.139348  23.158754 -26.241206  19.426465   9.472049   8.453948   \n",
       "4   -35.251034  27.281816 -29.470282 -21.786865  11.806822  58.655133   \n",
       "..         ...        ...        ...        ...        ...        ...   \n",
       "495 -19.331647  -0.366931 -45.003810  23.471513  28.763623   5.200654   \n",
       "496 -22.401837  33.158476  -7.511213 -14.897442  32.850515  31.573870   \n",
       "497  34.675516 -25.555242  -9.359657 -40.558102   7.370166  42.936061   \n",
       "498  28.873332  49.657090 -40.581331 -36.620498 -44.246918   5.831656   \n",
       "499 -14.223479 -68.335345 -33.516599  17.774717  -9.689930   7.533977   \n",
       "\n",
       "     feature_6  feature_7  feature_8  feature_9  ...  feature_990  \\\n",
       "0    -5.507209 -46.992476   5.175469 -47.768145  ...     7.815960   \n",
       "1    34.298084  22.982509  37.938670 -35.648144  ...    11.145527   \n",
       "2   -18.831206 -35.384557   8.161430 -16.421762  ...    48.190331   \n",
       "3     0.637211 -26.675984 -43.823329  11.840874  ...   -51.613076   \n",
       "4     5.375230  59.740676 -49.007717 -21.801155  ...     0.010857   \n",
       "..         ...        ...        ...        ...  ...          ...   \n",
       "495  -9.390098  24.495059  18.614589 -12.676268  ...    -0.530597   \n",
       "496  39.305110  15.333884 -11.832214  11.403074  ...    -6.084563   \n",
       "497  20.610569  -8.113407  15.245024 -19.350496  ...    18.593883   \n",
       "498  24.495664 -52.132250  22.615132  -9.985665  ...   -33.513126   \n",
       "499 -12.016742 -26.424840  -5.279775  -4.522729  ...    -7.856180   \n",
       "\n",
       "     feature_991  feature_992  feature_993  feature_994  feature_995  \\\n",
       "0      24.320965   -33.987522    22.306088    31.173511    31.264830   \n",
       "1     -38.886603    44.579337    37.308519    29.560535   -10.643331   \n",
       "2      -0.503157   -21.740678    15.972237     1.122335   -45.473538   \n",
       "3      13.278858   -44.179281    32.912282     4.805774     3.960836   \n",
       "4      20.975655   -21.358371    18.709369    22.362477    41.214565   \n",
       "..           ...          ...          ...          ...          ...   \n",
       "495   -25.886767    15.909870   -12.305992    11.665251   -40.847296   \n",
       "496    -4.721127   -48.339012    21.661988    -1.722079    19.024689   \n",
       "497    25.024820   -20.524914    21.288515    26.961624     8.657218   \n",
       "498   -15.557405    -9.446663    -1.540528    20.153705   -54.249946   \n",
       "499   -14.384271    14.601819   -12.553820   -10.593351   -22.479370   \n",
       "\n",
       "     feature_996  feature_997  feature_998  feature_999  \n",
       "0       8.380699   -25.843189    36.706408   -43.480792  \n",
       "1      -6.499263    19.921666    -3.528982    31.068739  \n",
       "2      10.518065    -5.818320   -29.466301   -13.676685  \n",
       "3     -15.888356    61.384773    33.112334     5.088320  \n",
       "4      -7.217724    31.173870    37.097532   -27.509420  \n",
       "..           ...          ...          ...          ...  \n",
       "495   -32.090600    32.656975   -30.864307    33.994823  \n",
       "496   -20.936766    31.727079    12.405595   -10.071446  \n",
       "497    47.231649    -6.338811    13.502616   -25.652088  \n",
       "498   -35.893373    55.850888   -19.910680    45.281842  \n",
       "499    24.228746    11.373317   -17.469783   -10.652679  \n",
       "\n",
       "[500 rows x 1000 columns]"
      ]
     },
     "execution_count": 23,
     "metadata": {},
     "output_type": "execute_result"
    }
   ],
   "source": [
    "df"
   ]
  },
  {
   "cell_type": "code",
   "execution_count": null,
   "id": "6db6f771",
   "metadata": {},
   "outputs": [],
   "source": []
  },
  {
   "cell_type": "code",
   "execution_count": null,
   "id": "4ef4ef13",
   "metadata": {},
   "outputs": [],
   "source": []
  },
  {
   "cell_type": "code",
   "execution_count": null,
   "id": "2410078f",
   "metadata": {},
   "outputs": [],
   "source": []
  },
  {
   "cell_type": "code",
   "execution_count": null,
   "id": "5efeabb7",
   "metadata": {},
   "outputs": [],
   "source": []
  }
 ],
 "metadata": {
  "kernelspec": {
   "display_name": "Python 3 (ipykernel)",
   "language": "python",
   "name": "python3"
  },
  "language_info": {
   "codemirror_mode": {
    "name": "ipython",
    "version": 3
   },
   "file_extension": ".py",
   "mimetype": "text/x-python",
   "name": "python",
   "nbconvert_exporter": "python",
   "pygments_lexer": "ipython3",
   "version": "3.8.15"
  }
 },
 "nbformat": 4,
 "nbformat_minor": 5
}
